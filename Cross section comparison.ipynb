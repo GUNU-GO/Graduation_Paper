{
 "cells": [
  {
   "cell_type": "code",
   "execution_count": 16,
   "metadata": {
    "collapsed": true
   },
   "outputs": [
    {
     "data": {
      "text/plain": [
       "[<matplotlib.lines.Line2D at 0x21426dd2748>]"
      ]
     },
     "execution_count": 16,
     "metadata": {},
     "output_type": "execute_result"
    },
    {
     "data": {
      "image/png": "[encoded data removed]",
      "text/plain": [
       "<Figure size 432x288 with 1 Axes>"
      ]
     },
     "metadata": {
      "needs_background": "light"
     },
     "output_type": "display_data"
    }
   ],
   "source": [
    "import numpy as np\n",
    "import scipy as sp\n",
    "from scipy.integrate import odeint\n",
    "import matplotlib.pyplot as plt\n",
    "\n",
    "def g(y, x):\n",
    "    y0 = y[0]\n",
    "    y1 = y[1]\n",
    "    y2 = ((3*x+2)*y1 + (6*x-8)*y0)/(3*x-1)\n",
    "    return y1, y2\n",
    "\n",
    "# Initial conditions on y, y' at x=0\n",
    "init = 2.0, 3.0\n",
    "# First integrate from 0 to 2\n",
    "x = np.linspace(0,2,100)\n",
    "sol1=odeint(g, init, x)\n",
    "# Then integrate from 0 to -2\n",
    "plt.plot(x, sol1[:,0], color='b')\n",
    "x = np.linspace(0,-2,100)\n",
    "sol2=odeint(g, init, x)\n",
    "plt.plot(x, sol2[:,0], color='b')\n",
    "\n",
    "# The analytical answer in red dots\n",
    "#exact_x = np.linspace(-2,2,10)\n",
    "#exact_y = 2*np.exp(2*exact_x)-exact_x*np.exp(-exact_x)\n",
    "#plt.plot(exact_x,exact_y, 'o', color='r', label='exact')\n",
    "#plt.legend()\n",
    "#plt.show()"
   ]
  },
  {
   "cell_type": "code",
   "execution_count": 39,
   "metadata": {},
   "outputs": [],
   "source": [
    "def Te(x,t):\n",
    "    Te = x\n",
    "    dTe_dt = k1(Te)*Te**2\n",
    "    return dTe_dt\n",
    "\n",
    "def k1(Te):\n",
    "    return Te\n",
    "\n",
    "t = np.linspace(0,1000,10000)\n",
    "ans = odeint(Te,3,t)"
   ]
  },
  {
   "cell_type": "code",
   "execution_count": 40,
   "metadata": {
    "scrolled": true
   },
   "outputs": [
    {
     "name": "stderr",
     "output_type": "stream",
     "text": [
      "C:\\Users\\metyu\\.conda\\envs\\py_36\\lib\\site-packages\\matplotlib\\axes\\_base.py:2483: RuntimeWarning: overflow encountered in double_scalars\n",
      "  x0t -= delta\n"
     ]
    },
    {
     "data": {
      "text/plain": [
       "[<matplotlib.lines.Line2D at 0x214294e4a20>]"
      ]
     },
     "execution_count": 40,
     "metadata": {},
     "output_type": "execute_result"
    },
    {
     "data": {
      "image/png": "[encoded data removed]",
      "text/plain": [
       "<Figure size 432x288 with 1 Axes>"
      ]
     },
     "metadata": {
      "needs_background": "light"
     },
     "output_type": "display_data"
    }
   ],
   "source": [
    "plt.plot(t,ans)"
   ]
  },
  {
   "cell_type": "code",
   "execution_count": null,
   "metadata": {},
   "outputs": [],
   "source": []
  }
 ],
 "metadata": {
  "kernelspec": {
   "display_name": "Python 3",
   "language": "python",
   "name": "python3"
  },
  "language_info": {
   "codemirror_mode": {
    "name": "ipython",
    "version": 3
   },
   "file_extension": ".py",
   "mimetype": "text/x-python",
   "name": "python",
   "nbconvert_exporter": "python",
   "pygments_lexer": "ipython3",
   "version": "3.6.9"
  }
 },
 "nbformat": 4,
 "nbformat_minor": 2
}
