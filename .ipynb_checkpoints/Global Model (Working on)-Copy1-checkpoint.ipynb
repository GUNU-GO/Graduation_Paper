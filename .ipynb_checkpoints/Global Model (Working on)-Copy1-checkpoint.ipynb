{
 "cells": [
  {
   "cell_type": "code",
   "execution_count": 255,
   "metadata": {},
   "outputs": [],
   "source": [
    "#### import library ####\n",
    "import numpy as np\n",
    "import pandas as pd\n",
    "from scipy.integrate import odeint\n",
    "import matplotlib.pyplot as plt"
   ]
  },
  {
   "cell_type": "code",
   "execution_count": 462,
   "metadata": {},
   "outputs": [],
   "source": [
    "#### Experimental Setup ####\n",
    "p = 7 #[mTorr] Pressure\n",
    "kB = 1.38e-23 #[J/K] [m2 kg K-1 s-2] Boltzmann constant\n",
    "kB1 = 8.617e-5 #[eV/K] Boltzmann constant\n",
    "e = 1.6e-19 #[C] electronic charge\n",
    "M = 1.67e-27 #[kg] mass of H atom\n",
    "m = 9.1e-31 #[kg] mass of electorn\n",
    "ro = 2.75 #[cm] radius of chamber\n",
    "l = 24 #[cm] chamber length\n",
    "Tg = 300 #[K] room temperature\n",
    "V = np.pi*ro**2*l #[cm^3] discharge volume\n",
    "A = 2*np.pi*ro*l+2*np.pi*ro**2 #[cm^2] loss area\n",
    "v0 = 100*(8*Tg*kB/(M*np.pi))**0.5 #[cm/s] mean velocity of H atom\n",
    "ng = (p/7.5)/(Tg*kB)*1e-6 #[cm^-3]\n",
    "sigma_i = 5e-15 #[cm2] #\n",
    "lambda_i = 1/(ng*sigma_i) #[cm] ion-neutral mean free path\n",
    "hl = 0.86*(3+l/2/lambda_i)**-0.5\n",
    "hR = 0.8*(4+ro/lambda_i)**-0.5\n",
    "Aeff = 2*np.pi*ro*(l*hR+ro*hl)  #[cm^2] effective area\n",
    "deff = V/Aeff #[cm]\n",
    "g = 0.1 #Recombination Factor\n",
    "LAMBDAeff = ((2.405/ro)**2+(np.pi/l)**2)**-0.5 #[cm]\n",
    "D_Kn = v0 * LAMBDAeff/3 #[cm2/s]\n",
    "Deff = D_Kn\n",
    "T1 = LAMBDAeff**2/Deff #[s]"
   ]
  },
  {
   "cell_type": "code",
   "execution_count": 463,
   "metadata": {},
   "outputs": [],
   "source": [
    "###### Functions ######\n",
    "def electron_balance_eqn(x, t, Power): \n",
    "    Te = x[0]\n",
    "    nH = x[1]\n",
    "    nHp = x[2]\n",
    "    nH2p = x[3]\n",
    "    nH3p = x[4]\n",
    "    x6 = 0.5\n",
    "    uB = np.sqrt(e*Te/M)*100 #[cm/s] #kB/kB1 = e\n",
    "    Vs = Te*np.log(np.sqrt(M/(2*np.pi*m)))\n",
    "    t0 = deff/uB #[s] Characteristic transit time of H+ ion \n",
    "    \n",
    "    ##### Rate coefficient calculation #####\n",
    "    # ref. R. K. Janev, et al., Elementary Processes in Hydrogen-Helium Plasmas, Springer (1987)\n",
    "    # H + e -> H+ + 2e, Reaction 2.1.5 E = 13.6\n",
    "    k1 = np.exp(-3.271396786375e+01+1.353655609057e+01*np.log(Te)-5.739328757388e+00*(np.log(Te))**2+1.563154982022e+00*(np.log(Te))**3-2.877056004391e-01*(np.log(Te))**4+3.482559773737e-02*(np.log(Te))**5-2.631976175590e-03*(np.log(Te))**6+1.119543953861e-04*(np.log(Te))**7-2.039149852002e-06*(np.log(Te))**8)\n",
    "    # H+ + e -> H + hv, Reaction 2.1.8 E = Te\n",
    "    k2 = 3.92e-14*(13.6/Te)**1.5/(13.6/Te+0.35) # n = 1s\n",
    "    # H2 + e -> 2H + e, Reaction 2.2.5 E = 10\n",
    "    k3 = np.exp(-2.858072836568e+01+1.038543976082e+01*np.log(Te)-5.383825026583e+00*(np.log(Te))**2+1.950636494405e+00*(np.log(Te))**3-5.393666392407e-01*(np.log(Te))**4+1.006916814453e-01*(np.log(Te))**5-1.160758573972e-02*(np.log(Te))**6+7.411623859122e-04*(np.log(Te))**7-2.001369618807e-05*(np.log(Te))**8)\n",
    "    # H2 + e -> H2+ + 2e, Reaction 2.2.9 E = 15.4\n",
    "    k4 = np.exp(-3.568640293666e+01+1.733468989961e+01*np.log(Te)-7.767469363538e+00*(np.log(Te))**2+2.211579405415e+00*(np.log(Te))**3-4.169840174384e-01*(np.log(Te))**4+5.088289820867e-02*(np.log(Te))**5-3.832737518325e-03*(np.log(Te))**6+1.612863120371e-04*(np.log(Te))**7-2.893391904431e-06*(np.log(Te))**8)\n",
    "    # H2 + e -> H+ + H + 2e, Reaction 2.2.10 E = 18\n",
    "    k5 = np.exp(-3.834597006782e+01+1.426322356722e+01*np.log(Te)-5.826468569506e+00*(np.log(Te))**2+1.727940947913e+00*(np.log(Te))**3-3.598120866343e-01*(np.log(Te))**4+4.822199350494e-02*(np.log(Te))**5-3.909402993006e-03*(np.log(Te))**6+1.738776657690e-04*(np.log(Te))**7-3.252844486351e-06*(np.log(Te))**8)\n",
    "    # H2+ + e -> 2H+ + 2e, Reaction 2.2.11 E = 15.5\n",
    "    k6 = np.exp(-3.746192301092e+01+1.559355031108e+01*np.log(Te)-6.693238367093e+00*(np.log(Te))**2+1.981700292134e+00*(np.log(Te))**3-4.044820889297e-01*(np.log(Te))**4+5.352391623039e-02*(np.log(Te))**5-4.317451841436e-03*(np.log(Te))**6+1.918499873454e-04*(np.log(Te))**7-3.591779705419e-06*(np.log(Te))**8)\n",
    "    # H2+ + e -> H+ + H + e, Reaction 2.2.12 E = 10.5\n",
    "    k7 = np.exp(-1.781416067709e+01+2.277799785711e+00*np.log(Te)-1.266868411626e+00*(np.log(Te))**2+4.296170447419e-01*(np.log(Te))**3-9.609908013189e-02*(np.log(Te))**4+1.387958040699e-02*(np.log(Te))**5-1.231349039470e-03*(np.log(Te))**6+6.042383126281e-05*(np.log(Te))**7-1.247521040900e-06*(np.log(Te))**8)\n",
    "    # H2+ + e -> 2H, Reaction 2.2.14 E = Te\n",
    "    k8 = np.exp(-1.670435653561e+01-6.035644995682e-01*np.log(Te)-1.942745783445e-08*(np.log(Te))**2-2.005952284492e-07*(np.log(Te))**3+2.962996104431e-08*(np.log(Te))**4+2.134293274971e-08*(np.log(Te))**5-6.353973401838e-09*(np.log(Te))**6+6.152557460831e-10*(np.log(Te))**7-2.025361858319e-11*(np.log(Te))**8)\n",
    "    # H3+ + e -> H2 + H, Reaction 2.2.15 E = Te\n",
    "    k9 = np.exp(-1.700270758355e+01-4.050073042947e-01*np.log(Te)+1.018733477232e-08*(np.log(Te))**2-1.695586285687e-08*(np.log(Te))**3+1.564311217508e-10*(np.log(Te))**4+1.979725412288e-09*(np.log(Te))**5-4.395545994733e-10*(np.log(Te))**6+3.584926377078e-11*(np.log(Te))**7-1.024189019465e-12*(np.log(Te))**8)\n",
    "    # H3+ + e -> H+ + 2H + e, Reaction 2.2.16 E = 14\n",
    "    k10 = np.exp(-3.078408636631e+01+1.509421488513e+01*np.log(Te)-7.349167207324e+00*(np.log(Te))**2+2.320966107642e+00*(np.log(Te))**3-4.818077551719e-01*(np.log(Te))**4+6.389229162737e-02*(np.log(Te))**5-5.161880953089e-03*(np.log(Te))**6+2.303985092606e-04*(np.log(Te))**7-4.344846146197e-06*(np.log(Te))**8)\n",
    "    # H2+ + H2 -> H3+ + H, Reaction 4.3.3 E = 0\n",
    "    k11 = 2.1e-9  #for 0.3eV Hydrogen atom\n",
    "    # H(1s) + e -> H(2p) + e, Reaction 2.1.1 E = 10.2 \n",
    "    k12 = np.exp(-4.991816994666e+02+6.320402753550e+02*np.log(Te)-3.652213752597e+02*(np.log(Te))**2+1.165699645892e+02*(np.log(Te))**3-2.250557133404e+01 *(np.log(Te))**4+2.695101794905e+00*(np.log(Te))**5-1.958839549072e-01*(np.log(Te))**6+7.917154881015e-03*(np.log(Te))**7-1.365267533573e-04*(np.log(Te))**8)\n",
    "    # H(1s) + e -> H(2s) + e, Reaction 2.1.2 E = 10.2\n",
    "    k13 = np.exp(-1.773223143614e+03+2.868021256119e+03*np.log(Te)-2.019174875577e+03*(np.log(Te))**2+7.913558639288e+02*(np.log(Te))**3-1.890880793711e+02*(np.log(Te))**4+2.824418882926e+01*(np.log(Te))**5-2.579116350676e+00*(np.log(Te))**6+1.318146425812e-01*(np.log(Te))**7-2.890652428531e-03*(np.log(Te))**8)\n",
    "    # H2 + e -> H2 + e, Reaction 2,2,2 E = 12.1\n",
    "    k14 = np.exp(-4.293519441750e+02+5.112210939087e+02*np.log(Te)- 2.848127939455e+02*(np.log(Te))**2+8.831033879636e+01*(np.log(Te))**3-1.665959177505e+01*(np.log(Te))**4+1.957960915869e+00*(np.log(Te))**5-1.401282416514e-01*(np.log(Te))**6+5.591134833381e-03*(np.log(Te))**7-9.537010324465e-05*(np.log(Te))**8)\n",
    "    \n",
    "    ##### Energy Loss per Reaction #####\n",
    "    E1 = 13.6\n",
    "    E2 = Te\n",
    "    E3 = 10\n",
    "    E4 = 15.4\n",
    "    E5 = 18\n",
    "    E6 = 15.5\n",
    "    E7 = 10.5\n",
    "    E8 = Te\n",
    "    E9 = Te\n",
    "    E10 = 14\n",
    "    E11 = 0\n",
    "    E12 = 10.2\n",
    "    E13 = 10.2\n",
    "    E14 = 12.1\n",
    "    \n",
    "    #Quasi-Neutrality eqn\n",
    "    ne = nHp + nH2p + nH3p\n",
    "    \n",
    "    #Hydrogen atom conservation eqn\n",
    "    nH2 = ng-(0.5*(nH+nHp)+nH2p+1.5*nH3p)\n",
    "    \n",
    "    #Particle balance eqn for electron\n",
    "    dne_dt = (k1*ne*nH)+(k4*ne*nH2)+(k5*ne*nH2)+(k6*ne*nH2p)-(k2*ne*nH)-(k8*ne*nH2p)-(k9*ne*nH3p)-ne*uB*Aeff/V\n",
    "    \n",
    "    #Power balance eqn for electron\n",
    "    dT_dt = 2/3*(Power(t)/V/ne - k1*nH*E1 + k2*nHp*E2 + k3*nH2*E3 + k4*nH2*E4 + k5*nH2*E5 + k6*nH2p*E6 + k7*nH2p*E7 + k8*nH2p*E8 + k9*nH3p*E9 + k10*nH3p*E10 + k12*nH*E12 + k13*nH*E13 + k14*nH2*E14 - (Vs+5/2*Te)*uB*Aeff)-dne_dt*Te/ne\n",
    "    \n",
    "    #Particle balance eqn for other species\n",
    "    dnH_dt = -(k1*ne*nH)+(k2*nHp*ne)+2*(k3*nH2*ne)+(k5*nH2*ne)+(k7*nH2p*ne)+2*(k8*nH2p*ne)+(k9*nH3p*ne)+2*(k10*nH3p*ne)+(k11*nH2p*nH2)-(nH/(T1/g))+(nHp/(t0/x6))+(nH3p/(np.sqrt(3)*t0/x6))\n",
    "    dnHp_dt = (k1*ne*nH)-(k2*nHp*ne)+(k5*nH2p*ne)+2*(k6*nH2p*ne)+(k7*nH2p*ne)+(k10*nH3p*ne)-(nHp/(t0/x6))\n",
    "    dnH2p_dt = (k4*nH2*ne)-(k6*nH2p*ne)-(k7*nH2p*ne)-(k8*nH2p*ne)-(k11*nH2p*nH2)-(nH2p/(np.sqrt(2)*t0/x6))\n",
    "    dnH3p_dt = -(k9*nH3p*ne)-(k10*nH3p*ne)+(k11*nH2p*nH2)-(nH3p/(np.sqrt(3)*t0/x6))\n",
    "    \n",
    "    return [dT_dt, dnH_dt, dnHp_dt, dnH2p_dt, dnH3p_dt]\n",
    "\n",
    "def Te_0(t):\n",
    "    return T_inf*(1+2*3.3e4*(t-duty*period))**-2\n",
    "\n",
    "def ne_0(t):\n",
    "    return n_inf*(1+2*3.3e4*(t-duty*period))**-0.5"
   ]
  },
  {
   "cell_type": "code",
   "execution_count": 464,
   "metadata": {
    "scrolled": true
   },
   "outputs": [],
   "source": [
    "###### Power Setting ######\n",
    "P = 1000*6.241509e18 #[eV/s] Input Power\n",
    "duty = 0.5\n",
    "period = 200\n",
    "time_resolution = 1e-1\n",
    "t = np.arange(0, period, time_resolution)\n",
    "\n",
    "def Power_rectangular(t):\n",
    "    if t <= duty*period:\n",
    "        return P\n",
    "    else:\n",
    "        return 0\n",
    "    \n",
    "def Power_logistic(t):\n",
    "    t1 = 50  #Point where the power starts to decrease\n",
    "    t2 = 150 #Point where the power becomes zero\n",
    "    C = 2\n",
    "    B = np.exp(-t2/C)\n",
    "    A = P/(np.exp(-t1/C)-B)\n",
    "    \n",
    "    if t <= t1:\n",
    "        return P\n",
    "    elif t <= t2 and t > t1:\n",
    "        return A*(np.exp(-t/C)-B)\n",
    "    else:\n",
    "        return 0"
   ]
  },
  {
   "cell_type": "code",
   "execution_count": 470,
   "metadata": {
    "scrolled": false
   },
   "outputs": [
    {
     "data": {
      "text/plain": [
       "Text(0, 0.5, 'Power (W)')"
      ]
     },
     "execution_count": 470,
     "metadata": {},
     "output_type": "execute_result"
    },
    {
     "data": {
      "image/png": "[encoded data removed]",
      "text/plain": [
       "<Figure size 432x288 with 1 Axes>"
      ]
     },
     "metadata": {
      "needs_background": "light"
     },
     "output_type": "display_data"
    }
   ],
   "source": [
    "Power_list = []\n",
    "for i in t:\n",
    "    Power_list.append(Power_rectangular(i)/6.241509e18)\n",
    "plt.plot(t,Power_list)\n",
    "plt.title('Pulse Wave Pattern')\n",
    "plt.xlabel('Time (ms)')\n",
    "plt.ylabel('Power (W)')"
   ]
  },
  {
   "cell_type": "code",
   "execution_count": 498,
   "metadata": {},
   "outputs": [],
   "source": [
    "###### Electron Temperature & Density Calculation ######\n",
    "x0 = [11,1e11, 1e6, 1e9, 1e9] #Te, nH, nHp, nH2p, nH3p\n",
    "args = (Power_rectangular,)\n",
    "ans1 = odeint(electron_balance_eqn, x0, t, args, rtol=10**-3, mxstep=10**4)\n",
    "T = ans1[:,0]\n",
    "H = ans1[:,1]\n",
    "Hp = ans1[:,2]\n",
    "H2p = ans1[:,3]\n",
    "H3p = ans1[:,4]\n",
    "ne = Hp + H2p + H3p\n",
    "H2 = ng-(0.5*(H+Hp)+H2p+1.5*H3p)"
   ]
  },
  {
   "cell_type": "code",
   "execution_count": 499,
   "metadata": {
    "scrolled": true
   },
   "outputs": [
    {
     "data": {
      "text/plain": [
       "Text(0, 0.5, 'Electron Temperature (eV)')"
      ]
     },
     "execution_count": 499,
     "metadata": {},
     "output_type": "execute_result"
    },
    {
     "data": {
      "image/png": "[encoded data removed]",
      "text/plain": [
       "<Figure size 432x288 with 1 Axes>"
      ]
     },
     "metadata": {
      "needs_background": "light"
     },
     "output_type": "display_data"
    }
   ],
   "source": [
    "plt.plot(t,T)\n",
    "#plt.xlim(duty*period-time_resolution*5,duty*period+time_resolution*5)\n",
    "plt.xlabel('Time (ms)')\n",
    "plt.ylabel('Electron Temperature (eV)')"
   ]
  },
  {
   "cell_type": "code",
   "execution_count": 503,
   "metadata": {},
   "outputs": [
    {
     "data": {
      "text/plain": [
       "(0.01, 1e+16)"
      ]
     },
     "execution_count": 503,
     "metadata": {},
     "output_type": "execute_result"
    },
    {
     "data": {
      "image/png": "[encoded data removed]",
      "text/plain": [
       "<Figure size 432x288 with 1 Axes>"
      ]
     },
     "metadata": {
      "needs_background": "light"
     },
     "output_type": "display_data"
    }
   ],
   "source": [
    "plt.plot(t,ne,'brown')\n",
    "plt.yscale('log')\n",
    "plt.xlabel('Time (ms)')\n",
    "plt.ylabel('Electron Density (cm-3)')\n",
    "plt.ylim(1e-2,1e16)"
   ]
  },
  {
   "cell_type": "code",
   "execution_count": 501,
   "metadata": {
    "scrolled": true
   },
   "outputs": [
    {
     "data": {
      "text/plain": [
       "<matplotlib.legend.Legend at 0x243e3d09a20>"
      ]
     },
     "execution_count": 501,
     "metadata": {},
     "output_type": "execute_result"
    },
    {
     "data": {
      "image/png": "[encoded data removed]",
      "text/plain": [
       "<Figure size 432x288 with 1 Axes>"
      ]
     },
     "metadata": {
      "needs_background": "light"
     },
     "output_type": "display_data"
    }
   ],
   "source": [
    "plt.plot(t,H,t,Hp,t,H2,t,H2p,t,H3p,t,ne)\n",
    "plt.yscale('log')\n",
    "plt.xlabel('Time (ms)')\n",
    "plt.ylabel('Density (cm-3)')\n",
    "plt.ylim(1e-3,1e18)\n",
    "plt.legend(['H','H+','H2','H2+','H3+','e'])"
   ]
  },
  {
   "cell_type": "code",
   "execution_count": 493,
   "metadata": {},
   "outputs": [
    {
     "data": {
      "text/plain": [
       "array([1.00000000e+06, 9.61720793e+05, 9.61720793e+05, ...,\n",
       "       9.76211765e+00, 9.74250194e+00, 9.72294574e+00])"
      ]
     },
     "execution_count": 493,
     "metadata": {},
     "output_type": "execute_result"
    }
   ],
   "source": [
    "Hp"
   ]
  },
  {
   "cell_type": "code",
   "execution_count": 479,
   "metadata": {},
   "outputs": [],
   "source": [
    "data = np.array([t,H,Hp,H2,H2p,H3p,ne]).T\n",
    "data = pd.DataFrame(data)\n",
    "data.columns= ['t','H','H+','H2','H2+','H3+','e']\n",
    "data.to_csv('result.csv')"
   ]
  },
  {
   "cell_type": "code",
   "execution_count": null,
   "metadata": {},
   "outputs": [],
   "source": [
    "import matplotlib.pyplot as plt\n",
    "import numpy as np\n",
    "import scipy as sp\n",
    "import scipy.integrate\n",
    "\n",
    "tmax = 10.0\n",
    "\n",
    "def a(t):\n",
    "    if t < tmax / 2.0:\n",
    "        return ((tmax / 2.0) - t) / (tmax / 2.0)\n",
    "    else:\n",
    "        return 1.0\n",
    "\n",
    "def func(x, t, a):\n",
    "    return - (x - a(t))\n",
    "\n",
    "x0 = 0.8\n",
    "t = np.linspace(0.0, tmax, 1000)\n",
    "args = (a,)\n",
    "y = sp.integrate.odeint(func, x0, t, args)\n",
    "\n",
    "fig = plt.figure()\n",
    "ax = fig.add_subplot(111)\n",
    "h1, = ax.plot(t, y)\n",
    "h2, = ax.plot(t, [a(s) for s in t])\n",
    "ax.legend([h1, h2], [\"y\", \"a\"])\n",
    "ax.set_xlabel(\"t\")\n",
    "ax.grid()\n",
    "plt.show()"
   ]
  },
  {
   "cell_type": "code",
   "execution_count": null,
   "metadata": {},
   "outputs": [],
   "source": [
    "for i in range(100):\n",
    "    x0 = [T[-1],H[-1],Hp[-1],H2[-1],H2p[-1],H3p[-1]]\n",
    "    ans1, info = odeint(electron_balance_eqn,x0,t1,rtol=10**-4,mxstep=10**3, full_output = True)\n",
    "    T = ans1[:,0]\n",
    "    H = ans1[:,1]\n",
    "    Hp = ans1[:,2]\n",
    "    H2p = ans1[:,3]\n",
    "    H3p = ans1[:,4]\n",
    "    ne = Hp + H2p + H3p\n",
    "    H2 = ng-(0.5*(H+Hp)+H2p+1.5*H3p)\n",
    "    "
   ]
  },
  {
   "cell_type": "code",
   "execution_count": null,
   "metadata": {},
   "outputs": [],
   "source": [
    "plt.plot(t,T)\n",
    "#plt.xlim(duty*period-time_resolution*5,duty*period+time_resolution*5)\n",
    "plt.xlabel('Time (ms)')\n",
    "plt.ylabel('Electron Temperature (eV)')"
   ]
  },
  {
   "cell_type": "code",
   "execution_count": null,
   "metadata": {},
   "outputs": [],
   "source": []
  },
  {
   "cell_type": "markdown",
   "metadata": {},
   "source": [
    "<img src = '10.6.1.png' width=\"45%\" height=\"45%\">\n",
    "<img src = 'huh1.png' width=\"55%\" height=\"55%\">\n",
    "<img src = 'choi1.png' width=\"35%\" height=\"35%\">\n",
    "<img src = 'choi2.png' width=\"35%\" height=\"35%\">"
   ]
  },
  {
   "cell_type": "markdown",
   "metadata": {},
   "source": [
    "1. Te를 구한다. (Power Balance와 Particle balance 풀기)\n",
    "2. Te가 구해졌으니 Particle Balance를 풀어서 각 Species density를 구하고 ne도 구한다(Quasi-neutrality)"
   ]
  },
  {
   "cell_type": "markdown",
   "metadata": {},
   "source": [
    "<img src = '3.5.8.png'>"
   ]
  },
  {
   "cell_type": "markdown",
   "metadata": {},
   "source": [
    "1. Ec 에다가 다 추가시켜서 한번 구해보자. Zorat꺼 2번째 논문의 식(9) 상세참조.\n",
    "2. 지금 상황을 보니까 Te구하는 Power balance식에 각 종의 density다 들어가니까 각 종의 particle balance eqn이랑 묶여야 할듯.\n",
    "3. N-1개의 Species를 포함한 model이면 전자 제외 N-2개의 particle balance eqn과 1개의 Power balance(Te구하는 용)과 quasi 식 써야함.\n",
    "4. 우리가 모르는 N개의 값은 N-1개의 density와 Te임"
   ]
  },
  {
   "cell_type": "markdown",
   "metadata": {},
   "source": [
    "<img src = 'zorat2.png'>"
   ]
  },
  {
   "cell_type": "code",
   "execution_count": null,
   "metadata": {},
   "outputs": [],
   "source": [
    "###### Functions ######\n",
    "def electron_balance_eqn(x, t): \n",
    "    ne = x[0]\n",
    "    Te = x[1]\n",
    "    Kiz = 2.34e-14*Te**0.59*np.exp(-17.44/Te)\n",
    "    Kex = 2.48e-14*Te**0.33*np.exp(-12.78/Te)\n",
    "    Kel = 2.336e-14*Te**1.609*np.exp(0.0618*(np.log(Te)**2-0.1171*(np.log(Te))**3))\n",
    "    Eiz = 15.4\n",
    "    Eex = 12.14\n",
    "    uB = np.sqrt(kB/kB1*Te/M)*100 #[cm/s] #kB/kB1 = e\n",
    "    ec = Eiz + Kex/Kiz*Eex + Kel/Kiz*3*m/M*Te\n",
    "    dndt = Kiz*ne*ng - ne*uB/deff #Particle balance eqn #생기고 사라지는거 고려해야함. recombination은 우선 제외\n",
    "    dTdt = Te*(P/(3/2*(ne*Te*V)) - Te*(2/3*ec/Te+1)*(Kiz*ng) - Te*(2/3*(np.log(np.sqrt(M/2/np.pi/m))+2.5)*uB/deff)) #Power balance eqn\n",
    "    return [dndt, dTdt]\n",
    "\n",
    "def Te_0(t):\n",
    "    return T_inf*(1+2*3.3e4*(t-duty*period))**-2\n",
    "\n",
    "def ne_0(t):\n",
    "    return n_inf*(1+2*3.3e4*(t-duty*period))**-0.5"
   ]
  },
  {
   "cell_type": "markdown",
   "metadata": {},
   "source": [
    "<img src = '10.6.1.png' width=\"35%\" height=\"35%\">\n",
    "<img src = '10.6.5.png' width=\"50%\" height=\"50%\">\n",
    "<img src = '10.6.7.png' width=\"50%\" height=\"50%\">\n",
    "ne도 모르고 Te도 모르는데 Power만 알음\n",
    "Janev 2.1.5 2.2.2 2.2.9\n",
    "2.1.5 H+e -> 2e+H+ 2*10-8정도\n",
    "2.2.9 H2+e -> 2e+H2+ 2*10-8정도 비슷한듯.."
   ]
  },
  {
   "cell_type": "markdown",
   "metadata": {},
   "source": [
    "<img src = 'zorat.png' width=\"50%\" height=\"50%\">"
   ]
  },
  {
   "cell_type": "code",
   "execution_count": null,
   "metadata": {},
   "outputs": [],
   "source": [
    "###### Power Setting ######\n",
    "duty = 0.5\n",
    "period = 20\n",
    "time_resolution = 1e-1\n",
    "t1 = np.arange(time_resolution, period*duty+time_resolution, time_resolution) #on-time\n",
    "t2 = np.arange(period*duty+time_resolution, period+time_resolution, time_resolution) #off-time\n",
    "\n",
    "###### Electron Temperature & Density Calculation ######\n",
    "x0 = [1e3,1]\n",
    "ans1 = odeint(electron_balance_eqn,x0,t1,rtol=10**-10,mxstep=10**5)\n",
    "\n",
    "n = ans1[:,0]\n",
    "T = ans1[:,1]\n",
    "n_inf = ans1[-1][0]\n",
    "T_inf = ans1[-1][1]\n",
    "ne = np.append(n,ne_0(t2))\n",
    "Te = np.append(T,Te_0(t2))\n",
    "t = np.append(t1,t2)\n",
    "t_long = list()"
   ]
  },
  {
   "cell_type": "code",
   "execution_count": null,
   "metadata": {},
   "outputs": [],
   "source": [
    "plt.plot(t,ne)\n",
    "#plt.xlim(duty*period-time_resolution*5,duty*period+time_resolution*5)\n",
    "plt.xlabel('Time (ms)')\n",
    "plt.ylabel('Electron Density (cm-3)')"
   ]
  },
  {
   "cell_type": "code",
   "execution_count": null,
   "metadata": {},
   "outputs": [],
   "source": [
    "plt.plot(t,Te)\n",
    "#plt.xlim(duty*period-time_resolution*5,duty*period+time_resolution*5)\n",
    "plt.xlabel('Time (ms)')\n",
    "plt.ylabel('Electron Temperature (eV)')"
   ]
  },
  {
   "cell_type": "code",
   "execution_count": null,
   "metadata": {},
   "outputs": [],
   "source": []
  },
  {
   "cell_type": "code",
   "execution_count": null,
   "metadata": {},
   "outputs": [],
   "source": [
    "def sim(x, t):\n",
    "    dx1_dt = x[1] - 2\n",
    "    dx2_dt = dx1_dt + 2\n",
    "    return [dx1_dt,dx2_dt]\n",
    "\n",
    "t = np.linspace(1,5,5000)\n",
    "#ans2 = odeint(sim2, 1, t)\n",
    "ans = odeint(sim, (1,1), t)\n",
    "#ans3 = odeint(sim3, [1,1], t)"
   ]
  },
  {
   "cell_type": "code",
   "execution_count": null,
   "metadata": {
    "scrolled": true
   },
   "outputs": [],
   "source": [
    "plt.plot(t,ans)"
   ]
  },
  {
   "cell_type": "code",
   "execution_count": null,
   "metadata": {},
   "outputs": [],
   "source": [
    "ans"
   ]
  },
  {
   "cell_type": "code",
   "execution_count": null,
   "metadata": {},
   "outputs": [],
   "source": [
    "9.344122e-02+3.278824e-01+5.786764e-01"
   ]
  },
  {
   "cell_type": "code",
   "execution_count": null,
   "metadata": {},
   "outputs": [],
   "source": []
  }
 ],
 "metadata": {
  "kernelspec": {
   "display_name": "Python 3",
   "language": "python",
   "name": "python3"
  },
  "language_info": {
   "codemirror_mode": {
    "name": "ipython",
    "version": 3
   },
   "file_extension": ".py",
   "mimetype": "text/x-python",
   "name": "python",
   "nbconvert_exporter": "python",
   "pygments_lexer": "ipython3",
   "version": "3.6.9"
  }
 },
 "nbformat": 4,
 "nbformat_minor": 2
}
