{
 "cells": [
  {
   "cell_type": "markdown",
   "metadata": {},
   "source": [
    "현재까지 개발된 정도랑 피드백 받을 부분, 코드의 동작하는 세션과 사용된 방정식을 워드나 PPT파일로 정리해서 보내드리면 될까요??"
   ]
  },
  {
   "cell_type": "code",
   "execution_count": 3,
   "metadata": {},
   "outputs": [],
   "source": [
    "import numpy as np\n",
    "from scipy.optimize import fsolve\n",
    "from scipy.integrate import odeint\n",
    "import matplotlib.pyplot as plt"
   ]
  },
  {
   "cell_type": "code",
   "execution_count": 4,
   "metadata": {},
   "outputs": [],
   "source": [
    "Te = 1 # initial Te [eV]\n",
    "\n",
    "# Rate coefficient calculation\n",
    "# ref. R. K. Janev, et al., Elementary Processes in Hydrogen-Helium Plasmas, Springer (1987)\n",
    "# H + e -> H+ + 2e\n",
    "a1 = np.exp(-3.271396786375e+01+1.353655609057e+01*np.log(Te)-5.739328757388e+00*(np.log(Te))**2+1.563154982022e+00*(np.log(Te))**3-2.877056004391e-01*(np.log(Te))**4+3.482559773737e-02*(np.log(Te))**5-2.631976175590e-03*(np.log(Te))**6+1.119543953861e-04*(np.log(Te))**7-2.039149852002e-06*(np.log(Te))**8)\n",
    "# H+ + e -> H + hv\n",
    "a2 = 3.92e-14*(13.6/Te)**1.5/(13.6/Te+0.35) # n = 1s\n",
    "# H2 + e -> 2H + e\n",
    "a3 = np.exp(-2.858072836568e+01+1.038543976082e+01*np.log(Te)-5.383825026583e+00*(np.log(Te))**2+1.950636494405e+00*(np.log(Te))**3-5.393666392407e-01*(np.log(Te))**4+1.006916814453e-01*(np.log(Te))**5-1.160758573972e-02*(np.log(Te))**6+7.411623859122e-04*(np.log(Te))**7-2.001369618807e-05*(np.log(Te))**8)\n",
    "# H2 + e -> H2+ + 2e\n",
    "a4 = np.exp(-3.568640293666e+01+1.733468989961e+01*np.log(Te)-7.767469363538e+00*(np.log(Te))**2+2.211579405415e+00*(np.log(Te))**3-4.169840174384e-01*(np.log(Te))**4+5.088289820867e-02*(np.log(Te))**5-3.832737518325e-03*(np.log(Te))**6+1.612863120371e-04*(np.log(Te))**7-2.893391904431e-06*(np.log(Te))**8)\n",
    "# H2 + e -> H+ + H + 2e\n",
    "a5 = np.exp(-3.834597006782e+01+1.426322356722e+01*np.log(Te)-5.826468569506e+00*(np.log(Te))**2+1.727940947913e+00*(np.log(Te))**3-3.598120866343e-01*(np.log(Te))**4+4.822199350494e-02*(np.log(Te))**5-3.909402993006e-03*(np.log(Te))**6+1.738776657690e-04*(np.log(Te))**7-3.252844486351e-06*(np.log(Te))**8)\n",
    "# H2+ + e -> 2H+ + 2e\n",
    "a6 = np.exp(-3.746192301092e+01+1.559355031108e+01*np.log(Te)-6.693238367093e+00*(np.log(Te))**2+1.981700292134e+00*(np.log(Te))**3-4.044820889297e-01*(np.log(Te))**4+5.352391623039e-02*(np.log(Te))**5-4.317451841436e-03*(np.log(Te))**6+1.918499873454e-04*(np.log(Te))**7-3.591779705419e-06*(np.log(Te))**8)\n",
    "# H2+ + e -> H+ + H + e\n",
    "a7 = np.exp(-1.781416067709e+01+2.277799785711e+00*np.log(Te)-1.266868411626e+00*(np.log(Te))**2+4.296170447419e-01*(np.log(Te))**3-9.609908013189e-02*(np.log(Te))**4+1.387958040699e-02*(np.log(Te))**5-1.231349039470e-03*(np.log(Te))**6+6.042383126281e-05*(np.log(Te))**7-1.247521040900e-06*(np.log(Te))**8)\n",
    "# H2+ + e -> 2H\n",
    "a8 = np.exp(-1.670435653561e+01-6.035644995682e-01*np.log(Te)-1.942745783445e-08*(np.log(Te))**2-2.005952284492e-07*(np.log(Te))**3+2.962996104431e-08*(np.log(Te))**4+2.134293274971e-08*(np.log(Te))**5-6.353973401838e-09*(np.log(Te))**6+6.152557460831e-10*(np.log(Te))**7-2.025361858319e-11*(np.log(Te))**8)\n",
    "# H3+ + e -> H2 + H\n",
    "a9 = np.exp(-1.700270758355e+01-4.050073042947e-01*np.log(Te)+1.018733477232e-08*(np.log(Te))**2-1.695586285687e-08*(np.log(Te))**3+1.564311217508e-10*(np.log(Te))**4+1.979725412288e-09*(np.log(Te))**5-4.395545994733e-10*(np.log(Te))**6+3.584926377078e-11*(np.log(Te))**7-1.024189019465e-12*(np.log(Te))**8)\n",
    "# H3+ + e -> H+ + 2H + e\n",
    "a10 = np.exp(-3.078408636631e+01+1.509421488513e+01*np.log(Te)-7.349167207324e+00*(np.log(Te))**2+2.320966107642e+00*(np.log(Te))**3-4.818077551719e-01*(np.log(Te))**4+6.389229162737e-02*(np.log(Te))**5-5.161880953089e-03*(np.log(Te))**6+2.303985092606e-04*(np.log(Te))**7-4.344846146197e-06*(np.log(Te))**8)\n",
    "# H2+ + H2 -> H3+ + H\n",
    "a11 = 2.1e-9  #for 0.3eV Hydrogen atom\n",
    "# H2 + e -> H2* + e"
   ]
  },
  {
   "cell_type": "markdown",
   "metadata": {},
   "source": [
    "<img src = '10.6.1.png'>\n",
    "<img src = '10.6.5.png'>\n",
    "<img src = '10.6.7.png'>\n",
    "ne도 모르고 Te도 모르는데 Power만 알음"
   ]
  },
  {
   "cell_type": "code",
   "execution_count": 23,
   "metadata": {},
   "outputs": [
    {
     "ename": "SyntaxError",
     "evalue": "invalid syntax (<ipython-input-23-67bc542e6e7b>, line 13)",
     "output_type": "error",
     "traceback": [
      "\u001b[1;36m  File \u001b[1;32m\"<ipython-input-23-67bc542e6e7b>\"\u001b[1;36m, line \u001b[1;32m13\u001b[0m\n\u001b[1;33m    vB = np.sqrt(e*Te/M)*100\u001b[0m\n\u001b[1;37m     ^\u001b[0m\n\u001b[1;31mSyntaxError\u001b[0m\u001b[1;31m:\u001b[0m invalid syntax\n"
     ]
    }
   ],
   "source": [
    "##### Constant #####\n",
    "Kiz = a4\n",
    "kB = 1.38e-23 #[J/K] [m2 kg K-1 s-2] Boltzmann constant\n",
    "kB1 = 8.617e-5 #[eV/K] Boltzmann constant\n",
    "Tg = 300 #[K] Room temperature\n",
    "e = 1.6e-19 #[C] electron charge\n",
    "M = 1.67e-27 #[kg] mass of H atom\n",
    "m = 9.1e-31 #[kg] mass of electorn\n",
    "\n",
    "##### Variable #####\n",
    "p = 5 #[mTorr] Gas pressure\n",
    "P = 500*6.241509e18 #[eV/s] Input power\n",
    "ng = (p/7.5/(Tg*kB)*1e-6 #[cm^-3]\n",
    "vB = np.sqrt(e*Te/M)*100\n",
    "\n",
    "\n",
    "def Electron_Balance():\n",
    "    Kiz = np.exp(-3.568640293666e+01+1.733468989961e+01*np.log(Te)-7.767469363538e+00*(np.log(Te))**2+2.211579405415e+00*(np.log(Te))**3-4.169840174384e-01*(np.log(Te))**4+5.088289820867e-02*(np.log(Te))**5-3.832737518325e-03*(np.log(Te))**6+1.612863120371e-04*(np.log(Te))**7-2.893391904431e-06*(np.log(Te))**8)\n",
    "    We = 3/2*ne*Te*V\n",
    "    dndt = Kiz*ne*ng - ne*uB*Aeff\n",
    "    dTdt = Te*((P/We)-(2/3*Ec/Te+1)\n",
    "\n",
    "\n",
    "    "
   ]
  },
  {
   "cell_type": "code",
   "execution_count": null,
   "metadata": {},
   "outputs": [],
   "source": []
  }
 ],
 "metadata": {
  "kernelspec": {
   "display_name": "Python 3",
   "language": "python",
   "name": "python3"
  },
  "language_info": {
   "codemirror_mode": {
    "name": "ipython",
    "version": 3
   },
   "file_extension": ".py",
   "mimetype": "text/x-python",
   "name": "python",
   "nbconvert_exporter": "python",
   "pygments_lexer": "ipython3",
   "version": "3.6.9"
  }
 },
 "nbformat": 4,
 "nbformat_minor": 2
}
